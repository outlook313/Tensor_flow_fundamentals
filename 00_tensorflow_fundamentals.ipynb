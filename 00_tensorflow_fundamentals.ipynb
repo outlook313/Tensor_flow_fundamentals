{
 "cells": [
  {
   "cell_type": "code",
   "execution_count": 1,
   "id": "f4b58846",
   "metadata": {},
   "outputs": [],
   "source": [
    "#tensorflow\n",
    "import tensorflow as tf"
   ]
  },
  {
   "cell_type": "code",
   "execution_count": 2,
   "id": "ef7d627c",
   "metadata": {},
   "outputs": [
    {
     "name": "stdout",
     "output_type": "stream",
     "text": [
      "2.3.0\n"
     ]
    }
   ],
   "source": [
    "print(tf.__version__)"
   ]
  },
  {
   "cell_type": "code",
   "execution_count": 3,
   "id": "d0880beb",
   "metadata": {},
   "outputs": [],
   "source": [
    "#create tensors with tf.constant()\n",
    "scalar=tf.constant(7)"
   ]
  },
  {
   "cell_type": "code",
   "execution_count": 4,
   "id": "4b8632c3",
   "metadata": {},
   "outputs": [
    {
     "data": {
      "text/plain": [
       "<tf.Tensor: shape=(), dtype=int32, numpy=7>"
      ]
     },
     "execution_count": 4,
     "metadata": {},
     "output_type": "execute_result"
    }
   ],
   "source": [
    "scalar"
   ]
  },
  {
   "cell_type": "code",
   "execution_count": 5,
   "id": "043ee367",
   "metadata": {},
   "outputs": [
    {
     "data": {
      "text/plain": [
       "0"
      ]
     },
     "execution_count": 5,
     "metadata": {},
     "output_type": "execute_result"
    }
   ],
   "source": [
    "#chech the number of a tensor \n",
    "scalar.ndim"
   ]
  },
  {
   "cell_type": "code",
   "execution_count": 6,
   "id": "bd1932c5",
   "metadata": {},
   "outputs": [
    {
     "data": {
      "text/plain": [
       "<tf.Tensor: shape=(2,), dtype=int32, numpy=array([10, 10])>"
      ]
     },
     "execution_count": 6,
     "metadata": {},
     "output_type": "execute_result"
    }
   ],
   "source": [
    "#create a vector\n",
    "vector=tf.constant([10,10])\n",
    "vector"
   ]
  },
  {
   "cell_type": "code",
   "execution_count": 7,
   "id": "c13d3e60",
   "metadata": {},
   "outputs": [
    {
     "data": {
      "text/plain": [
       "1"
      ]
     },
     "execution_count": 7,
     "metadata": {},
     "output_type": "execute_result"
    }
   ],
   "source": [
    "vector.ndim"
   ]
  },
  {
   "cell_type": "code",
   "execution_count": 8,
   "id": "c20baf4b",
   "metadata": {},
   "outputs": [
    {
     "data": {
      "text/plain": [
       "<tf.Tensor: shape=(2, 2), dtype=int32, numpy=\n",
       "array([[10,  7],\n",
       "       [ 7, 10]])>"
      ]
     },
     "execution_count": 8,
     "metadata": {},
     "output_type": "execute_result"
    }
   ],
   "source": [
    "#create a matrix\n",
    "matrix=tf.constant([[10,7],[7,10]])\n",
    "matrix"
   ]
  },
  {
   "cell_type": "code",
   "execution_count": 9,
   "id": "d168377f",
   "metadata": {},
   "outputs": [
    {
     "data": {
      "text/plain": [
       "2"
      ]
     },
     "execution_count": 9,
     "metadata": {},
     "output_type": "execute_result"
    }
   ],
   "source": [
    "matrix.ndim"
   ]
  },
  {
   "cell_type": "code",
   "execution_count": 10,
   "id": "63bccf15",
   "metadata": {},
   "outputs": [
    {
     "data": {
      "text/plain": [
       "<tf.Tensor: shape=(3, 2), dtype=float16, numpy=\n",
       "array([[10.,  7.],\n",
       "       [ 3.,  5.],\n",
       "       [ 8.,  9.]], dtype=float16)>"
      ]
     },
     "execution_count": 10,
     "metadata": {},
     "output_type": "execute_result"
    }
   ],
   "source": [
    "#create another matrix\n",
    "matrix=tf.constant([[10.,7.],[3.,5.],[8.,9.]],dtype=tf.float16)#specify data type\n",
    "matrix"
   ]
  },
  {
   "cell_type": "markdown",
   "id": "9575cd7c",
   "metadata": {},
   "source": []
  },
  {
   "cell_type": "code",
   "execution_count": 11,
   "id": "7d96953b",
   "metadata": {},
   "outputs": [
    {
     "data": {
      "text/plain": [
       "2"
      ]
     },
     "execution_count": 11,
     "metadata": {},
     "output_type": "execute_result"
    }
   ],
   "source": [
    "matrix.ndim"
   ]
  },
  {
   "cell_type": "code",
   "execution_count": 12,
   "id": "08d2e2bd",
   "metadata": {},
   "outputs": [
    {
     "data": {
      "text/plain": [
       "<tf.Tensor: shape=(3, 2), dtype=float16, numpy=\n",
       "array([[10.,  7.],\n",
       "       [ 3.,  5.],\n",
       "       [ 8.,  9.]], dtype=float16)>"
      ]
     },
     "execution_count": 12,
     "metadata": {},
     "output_type": "execute_result"
    }
   ],
   "source": [
    "#create another matrix\n",
    "tensor=tf.constant([[[10.,7.,.4],[3.,5.,9.]],[[8.,9.,.8],[2.,4.,.9]],[[6.,9.,.7],[5.,6.,.7]]])#specify data type\n",
    "matrix"
   ]
  },
  {
   "cell_type": "code",
   "execution_count": 13,
   "id": "d29e5bb1",
   "metadata": {},
   "outputs": [
    {
     "data": {
      "text/plain": [
       "3"
      ]
     },
     "execution_count": 13,
     "metadata": {},
     "output_type": "execute_result"
    }
   ],
   "source": [
    "tensor.ndim"
   ]
  },
  {
   "cell_type": "code",
   "execution_count": 14,
   "id": "26e39f12",
   "metadata": {},
   "outputs": [
    {
     "name": "stdout",
     "output_type": "stream",
     "text": [
      "ok\n"
     ]
    }
   ],
   "source": [
    "# a scalar a single number \n",
    "#Vector  a number with direction\n",
    "#a matrix is  a 2-demension array of numbers \n",
    "# a tensor an n dimensional(dim0,1,2..)\n",
    "print(\"ok\")"
   ]
  },
  {
   "cell_type": "code",
   "execution_count": 15,
   "id": "f6718b5b",
   "metadata": {},
   "outputs": [
    {
     "data": {
      "text/plain": [
       "(<tf.Variable 'Variable:0' shape=(2,) dtype=int32, numpy=array([10,  7])>,\n",
       " <tf.Tensor: shape=(2,), dtype=int32, numpy=array([10,  7])>)"
      ]
     },
     "execution_count": 15,
     "metadata": {},
     "output_type": "execute_result"
    }
   ],
   "source": [
    "#create  the tensor\n",
    "changeable_tensor=tf.Variable([10,7])\n",
    "unchangeable_tensor=tf.constant([10,7])\n",
    "changeable_tensor,unchangeable_tensor"
   ]
  },
  {
   "cell_type": "code",
   "execution_count": 16,
   "id": "56077d86",
   "metadata": {},
   "outputs": [
    {
     "data": {
      "text/plain": [
       "<tf.Variable 'Variable:0' shape=(2,) dtype=int32, numpy=array([7, 7])>"
      ]
     },
     "execution_count": 16,
     "metadata": {},
     "output_type": "execute_result"
    }
   ],
   "source": [
    "#lets try change one of the elements in our changeable tensor\n",
    "changeable_tensor[0].assign(7)\n",
    "changeable_tensor"
   ]
  },
  {
   "cell_type": "code",
   "execution_count": 17,
   "id": "9f997de1",
   "metadata": {},
   "outputs": [
    {
     "ename": "AttributeError",
     "evalue": "'tensorflow.python.framework.ops.EagerTensor' object has no attribute 'assign'",
     "output_type": "error",
     "traceback": [
      "\u001b[1;31m---------------------------------------------------------------------------\u001b[0m",
      "\u001b[1;31mAttributeError\u001b[0m                            Traceback (most recent call last)",
      "\u001b[1;32m<ipython-input-17-958e786d8d1f>\u001b[0m in \u001b[0;36m<module>\u001b[1;34m\u001b[0m\n\u001b[1;32m----> 1\u001b[1;33m \u001b[0munchangeable_tensor\u001b[0m\u001b[1;33m[\u001b[0m\u001b[1;36m0\u001b[0m\u001b[1;33m]\u001b[0m\u001b[1;33m.\u001b[0m\u001b[0massign\u001b[0m\u001b[1;33m(\u001b[0m\u001b[1;36m7\u001b[0m\u001b[1;33m)\u001b[0m\u001b[1;33m\u001b[0m\u001b[1;33m\u001b[0m\u001b[0m\n\u001b[0m\u001b[0;32m      2\u001b[0m \u001b[0munchangeable_tensor\u001b[0m\u001b[1;33m\u001b[0m\u001b[1;33m\u001b[0m\u001b[0m\n",
      "\u001b[1;31mAttributeError\u001b[0m: 'tensorflow.python.framework.ops.EagerTensor' object has no attribute 'assign'"
     ]
    }
   ],
   "source": [
    "unchangeable_tensor[0].assign(7)\n",
    "unchangeable_tensor"
   ]
  },
  {
   "cell_type": "code",
   "execution_count": null,
   "id": "e6d4b83e",
   "metadata": {},
   "outputs": [],
   "source": [
    "#creating random tensors\n",
    "#random tensors  are tensors of some abitary size which contain random numbers\n",
    "random1= tf.random.Generator.from_seed(42)#set seed reproducibility\n",
    "random1= tf.random.normal(shape=(3,2))\n",
    "random2= tf.random.Generator.from_seed(42)\n",
    "random2= tf.random.normal(shape=(3,2))\n",
    "#are they equal\n",
    "random1,random2,random1==random2"
   ]
  },
  {
   "cell_type": "code",
   "execution_count": null,
   "id": "12fae5f8",
   "metadata": {},
   "outputs": [],
   "source": [
    "### shuffle the order of elements in tensor\n",
    "not_shuffled=tf.constant([[10,7],[3,4],[2,5]])\n",
    "not_shuffled.ndim"
   ]
  },
  {
   "cell_type": "code",
   "execution_count": null,
   "id": "dbfa57a0",
   "metadata": {},
   "outputs": [],
   "source": [
    "not_shuffled"
   ]
  },
  {
   "cell_type": "code",
   "execution_count": null,
   "id": "87e6c509",
   "metadata": {},
   "outputs": [],
   "source": [
    "#shuffle our non_shuffled tensor\n",
    "tf.random.set_seed(42)#global level seed,if both for retain order\n",
    "tf.random.shuffle(not_shuffled,seed=42)#operation level seed"
   ]
  },
  {
   "cell_type": "code",
   "execution_count": null,
   "id": "f8e446a9",
   "metadata": {},
   "outputs": [],
   "source": [
    "##Other ways to tensors\n",
    "#create a tensor all ones\n",
    "tf.ones([10,7])"
   ]
  },
  {
   "cell_type": "code",
   "execution_count": null,
   "id": "a365c4eb",
   "metadata": {},
   "outputs": [],
   "source": [
    "#create a tensor all zeros\n",
    "tf.zeros([3,4])"
   ]
  },
  {
   "cell_type": "code",
   "execution_count": null,
   "id": "9f6806a0",
   "metadata": {},
   "outputs": [],
   "source": [
    "#you can also use numpy array to tensor\n",
    "import numpy as np\n",
    "numpy_a=np.arange(1,25,dtype=np.int32)\n",
    "numpy_a"
   ]
  },
  {
   "cell_type": "code",
   "execution_count": null,
   "id": "fcb0d5d5",
   "metadata": {},
   "outputs": [],
   "source": [
    "a=tf.constant(numpy_a)\n",
    "a"
   ]
  },
  {
   "cell_type": "code",
   "execution_count": null,
   "id": "d7446a06",
   "metadata": {},
   "outputs": [],
   "source": [
    "#change dimesion shape\n",
    "a=tf.constant(numpy_a,shape=(2,3,4))\n",
    "a"
   ]
  },
  {
   "cell_type": "code",
   "execution_count": null,
   "id": "3f6fd492",
   "metadata": {},
   "outputs": [],
   "source": [
    "2*3*4"
   ]
  },
  {
   "cell_type": "code",
   "execution_count": null,
   "id": "5af80168",
   "metadata": {},
   "outputs": [],
   "source": [
    "a=tf.constant(numpy_a,shape=(3,8))\n",
    "a"
   ]
  },
  {
   "cell_type": "code",
   "execution_count": null,
   "id": "d35a2be7",
   "metadata": {},
   "outputs": [],
   "source": [
    "3*8"
   ]
  },
  {
   "cell_type": "code",
   "execution_count": null,
   "id": "499c0995",
   "metadata": {},
   "outputs": [],
   "source": [
    "## geting information from tensors\n",
    "#create 4 rank tensor\n",
    "rank_4_tensor=tf.zeros(shape=[2,3,4,5])\n",
    "rank_4_tensor"
   ]
  },
  {
   "cell_type": "code",
   "execution_count": null,
   "id": "0e9959a7",
   "metadata": {},
   "outputs": [],
   "source": [
    "rank_4_tensor.shape,rank_4_tensor.ndim,tf.size(rank_4_tensor)"
   ]
  },
  {
   "cell_type": "code",
   "execution_count": null,
   "id": "b86a7ede",
   "metadata": {},
   "outputs": [],
   "source": [
    "2*3*4*5"
   ]
  },
  {
   "cell_type": "code",
   "execution_count": null,
   "id": "3a66879b",
   "metadata": {},
   "outputs": [],
   "source": [
    "#get various attributes of our tensor \n",
    "print(\"Datatype of every element \",rank_4_tensor.dtype)\n",
    "print(\"Numbers of dimesion(rank):\",rank_4_tensor.ndim)\n",
    "print(\"shape of tensor:\",rank_4_tensor.shape)\n",
    "print(\"elements alongs 0 th axis\",rank_4_tensor.shape[0])\n",
    "print(\"elements alongs last axis\",rank_4_tensor.shape[-1])\n",
    "print(\"elements of tensor\",tf.size(rank_4_tensor))"
   ]
  },
  {
   "cell_type": "code",
   "execution_count": null,
   "id": "0bf2f03c",
   "metadata": {},
   "outputs": [],
   "source": [
    "##tensor can be indexed just like python list\n",
    "#get a element of each dimension\n",
    "\n",
    "rank_4_tensor[:2,:2,:2,:2]"
   ]
  },
  {
   "cell_type": "code",
   "execution_count": null,
   "id": "c67fa210",
   "metadata": {},
   "outputs": [],
   "source": [
    "#get  element from each dimesion from each index except final one\n",
    "rank_4_tensor[:1,:1,:1]"
   ]
  },
  {
   "cell_type": "code",
   "execution_count": null,
   "id": "e25f8989",
   "metadata": {},
   "outputs": [],
   "source": [
    "#create a rank 2 tensor (2 dimension)\n",
    "rank_2_tensor=tf.constant([[10,7],[3,4]])\n",
    "rank_2_tensor.shape,rank_2_tensor.ndim"
   ]
  },
  {
   "cell_type": "code",
   "execution_count": null,
   "id": "23265556",
   "metadata": {},
   "outputs": [],
   "source": [
    "rank_2_tensor"
   ]
  },
  {
   "cell_type": "code",
   "execution_count": null,
   "id": "f83041b3",
   "metadata": {},
   "outputs": [],
   "source": [
    "rank_2_tensor[:,-1]"
   ]
  },
  {
   "cell_type": "code",
   "execution_count": null,
   "id": "b0c37d05",
   "metadata": {},
   "outputs": [],
   "source": [
    "#add new extra dimension in rank 2 tensor\n",
    "rank_3_tensor=rank_2_tensor[...,tf.newaxis]\n",
    "rank_3_tensor"
   ]
  },
  {
   "cell_type": "code",
   "execution_count": null,
   "id": "8b7cb14d",
   "metadata": {},
   "outputs": [],
   "source": [
    "#alternative  to tf.newaxis\n",
    "tf.expand_dims(rank_2_tensor,axis=-1)#\"-1\" mean expand the final axis"
   ]
  },
  {
   "cell_type": "code",
   "execution_count": null,
   "id": "ea3851e2",
   "metadata": {},
   "outputs": [],
   "source": [
    "tf.expand_dims(rank_2_tensor,axis=0)#\"-1\" mean expand the final axis"
   ]
  },
  {
   "cell_type": "code",
   "execution_count": null,
   "id": "612c85df",
   "metadata": {},
   "outputs": [],
   "source": [
    "tf.expand_dims(rank_2_tensor,axis=1)#\"-1\" mean expand the final axis"
   ]
  },
  {
   "cell_type": "code",
   "execution_count": null,
   "id": "b3391e71",
   "metadata": {},
   "outputs": [],
   "source": [
    "#manipulating tensors\n",
    "#tensor operation\n",
    "#Basic operation\n",
    "+,-,*,/\n",
    "\n",
    "\n"
   ]
  },
  {
   "cell_type": "code",
   "execution_count": null,
   "id": "cc9112f8",
   "metadata": {},
   "outputs": [],
   "source": []
  },
  {
   "cell_type": "code",
   "execution_count": null,
   "id": "f55ea3fe",
   "metadata": {},
   "outputs": [],
   "source": []
  },
  {
   "cell_type": "code",
   "execution_count": null,
   "id": "60c82ec1",
   "metadata": {},
   "outputs": [],
   "source": []
  }
 ],
 "metadata": {
  "kernelspec": {
   "display_name": "Python 3",
   "language": "python",
   "name": "python3"
  },
  "language_info": {
   "codemirror_mode": {
    "name": "ipython",
    "version": 3
   },
   "file_extension": ".py",
   "mimetype": "text/x-python",
   "name": "python",
   "nbconvert_exporter": "python",
   "pygments_lexer": "ipython3",
   "version": "3.8.10"
  }
 },
 "nbformat": 4,
 "nbformat_minor": 5
}
